{
 "cells": [
  {
   "cell_type": "code",
   "execution_count": null,
   "metadata": {},
   "outputs": [],
   "source": [
    "values = [34,17,28,31,44,51,29,87,66,52]\n",
    "listLength = len(values)\n"
   ]
  },
  {
   "cell_type": "code",
   "execution_count": null,
   "metadata": {},
   "outputs": [],
   "source": [
    "cities = ['Manchester', 'Melbourne', 'Delhi', 'Glasgow', 'Gold Coast', 'Birmingham']\n",
    "print(cities)\n",
    "cities[0] = 'Perth'\n",
    "print(cities)\n",
    "cities.append('Edinburgh')\n",
    "print(cities)"
   ]
  },
  {
   "cell_type": "markdown",
   "metadata": {},
   "source": [
    "**Ex 8.1 Question 1**"
   ]
  },
  {
   "cell_type": "code",
   "execution_count": null,
   "metadata": {},
   "outputs": [],
   "source": [
    "import random\n",
    "numbers = [45, 56, 23, 37, 58, 97, 11]\n",
    "\n",
    "print(f'Here is the list - {numbers}\\n')\n",
    "    \n",
    "# the number of items in the list\n",
    "listLength = len(numbers)\n",
    "print(f'There are {listLength} numbers in the list\\n')\n",
    "\n",
    "# the first item in the list\n",
    "print(f'The first numebr in the list is {numbers[0]}\\n')\n",
    "\n",
    "# the last item in the list (but not by counting how many there are)\n",
    "print(f'The last number in the list is {numbers[-1]}\\n')\n",
    "\n",
    "# the fourth item in the list\n",
    "print(f'The fourth number in the list is {numbers[3]}\\n')\n",
    "\n",
    "# a random item from the list\n",
    "index = random.randrange(listLength)\n",
    "print(f'{numbers[index]} is a random number from the list')"
   ]
  },
  {
   "cell_type": "code",
   "execution_count": null,
   "metadata": {},
   "outputs": [],
   "source": []
  },
  {
   "cell_type": "markdown",
   "metadata": {},
   "source": [
    "**Storing values in an array**"
   ]
  },
  {
   "cell_type": "markdown",
   "metadata": {},
   "source": [
    "*In an array, all values have to be of the same type.  This is not the case in a Python list*"
   ]
  },
  {
   "cell_type": "code",
   "execution_count": null,
   "metadata": {},
   "outputs": [],
   "source": [
    "listOfThings = [1, 2, 3, 'A', 'B', 'C',True]\n",
    "print(listOfThings)"
   ]
  },
  {
   "cell_type": "code",
   "execution_count": null,
   "metadata": {},
   "outputs": [],
   "source": [
    "# using assignemnt\n",
    "numbers = [0] * 5 # Initialise a list for 5 integers\n",
    "numbers[0] = int(input('Enter a number '))\n",
    "numbers[1] = int(input('Enter a number '))"
   ]
  },
  {
   "cell_type": "code",
   "execution_count": null,
   "metadata": {},
   "outputs": [],
   "source": [
    "numbers"
   ]
  },
  {
   "cell_type": "code",
   "execution_count": null,
   "metadata": {},
   "outputs": [],
   "source": [
    "# adding to the end (append)\n",
    "numbers = [] # Initialise an empty list\n",
    "numbers.append(4)\n",
    "numbers.append(8)\n",
    "numbers[1] = 9\n",
    "numbers[3] = 10\n",
    "print(numbers)"
   ]
  },
  {
   "cell_type": "code",
   "execution_count": null,
   "metadata": {},
   "outputs": [],
   "source": [
    "# using assignemnt\n",
    "numbers = [0] * 5 # Initialise a list for 5 integers  \n",
    "\n",
    "for index in range (5):    \n",
    "    numbers[index] = int(input('Enter an integer : '))   # assign value to this element of the list         \n",
    "print(f'You entered these values : {numbers}')   \n"
   ]
  },
  {
   "cell_type": "code",
   "execution_count": null,
   "metadata": {},
   "outputs": [],
   "source": [
    "# adding to the end of a list\n",
    "numbers = [] # Initialise an empty list  \n",
    "\n",
    "for counter in range (5):  \n",
    "    number = int(input('Enter an integer : '))  \n",
    "    numbers.append(number)  # add to end of list\n",
    "\n",
    "print (f'You entered these values : {numbers}')  \n"
   ]
  },
  {
   "cell_type": "markdown",
   "metadata": {},
   "source": [
    "**Running total with an array**"
   ]
  },
  {
   "cell_type": "code",
   "execution_count": null,
   "metadata": {},
   "outputs": [],
   "source": [
    "# take in and store 5 numbers; find the average\n",
    "numbers = [0]*5 # Initialise an array for 5 integers\n",
    "total = 0\n",
    "\n",
    "for index in range (5):  # use 'index' as a loop counter - it's how we refer to an array element\n",
    "    numbers[index] = int(input('Enter an integer : '))  \n",
    "    total += numbers[index]\n",
    "    \n",
    "average = total / 5\n",
    "\n",
    "print (f'\\nYou entered these values : {numbers}')  \n",
    "print (f'The average of your five numbers is {average}')  "
   ]
  },
  {
   "cell_type": "code",
   "execution_count": null,
   "metadata": {},
   "outputs": [],
   "source": []
  },
  {
   "cell_type": "code",
   "execution_count": null,
   "metadata": {},
   "outputs": [],
   "source": [
    "# take in and store 5 numbers; find the average\n",
    "numbers = [] # Initialise an empty array  \n",
    "total = 0\n",
    "\n",
    "for counter in range (5):  # use 'counter' as a loop counter - we don't need to know where the values are going in the array\n",
    "    number = int(input('Enter an integer : '))  \n",
    "    total += number\n",
    "    numbers.append (number) # add to end of array\n",
    "    \n",
    "average = total / 5\n",
    "\n",
    "print (f'\\nYou entered these values : {numbers}')  \n",
    "print (f'The average of your five numbers is {average}')  "
   ]
  },
  {
   "cell_type": "code",
   "execution_count": null,
   "metadata": {},
   "outputs": [],
   "source": []
  },
  {
   "cell_type": "code",
   "execution_count": null,
   "metadata": {},
   "outputs": [],
   "source": [
    "\n"
   ]
  },
  {
   "cell_type": "code",
   "execution_count": null,
   "metadata": {},
   "outputs": [],
   "source": []
  }
 ],
 "metadata": {
  "kernelspec": {
   "display_name": "Python 3",
   "language": "python",
   "name": "python3"
  },
  "language_info": {
   "codemirror_mode": {
    "name": "ipython",
    "version": 3
   },
   "file_extension": ".py",
   "mimetype": "text/x-python",
   "name": "python",
   "nbconvert_exporter": "python",
   "pygments_lexer": "ipython3",
   "version": "3.7.9"
  }
 },
 "nbformat": 4,
 "nbformat_minor": 4
}
