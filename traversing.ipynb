{
 "cells": [
  {
   "cell_type": "markdown",
   "metadata": {},
   "source": [
    "## Traversing arrays ##"
   ]
  },
  {
   "cell_type": "markdown",
   "metadata": {},
   "source": [
    "### by position ###"
   ]
  },
  {
   "cell_type": "code",
   "execution_count": null,
   "metadata": {},
   "outputs": [],
   "source": [
    "myList = [101 ,20 ,10 ,50 ,60]  \n",
    "\n",
    "print (myList[0])   # prints the first item  \n",
    "print (myList[-1])  # prints the last item \n",
    "\n",
    "for index in range(len(myList)): # the loop prints all the items  \n",
    "    print(myList[index] )  "
   ]
  },
  {
   "cell_type": "code",
   "execution_count": null,
   "metadata": {},
   "outputs": [],
   "source": [
    "myList = ['Spoon', 'Fork', 'Knife']  \n",
    "\n",
    "for index in range(len(myList)):  \n",
    "    print (myList[index])  \n"
   ]
  },
  {
   "cell_type": "code",
   "execution_count": null,
   "metadata": {},
   "outputs": [],
   "source": [
    "rainfall = [] # Empty list  \n",
    "total = 0\n",
    "\n",
    "for counter in range (7):  \n",
    "    number = int(input('Enter a rainfall : '))  \n",
    "    rainfall.append (number)  \n",
    "    total = total + number\n",
    "\n",
    "average = total / 7\n",
    "\n",
    "howMany = 0\n",
    "for index in range(7):\n",
    "    if rainfall[index] < average:\n",
    "        howMany += 1\n",
    "\n",
    "print(f'There are {howMany} days with below average rainfall')"
   ]
  },
  {
   "cell_type": "code",
   "execution_count": null,
   "metadata": {},
   "outputs": [],
   "source": []
  },
  {
   "cell_type": "markdown",
   "metadata": {},
   "source": [
    "### by value ###"
   ]
  },
  {
   "cell_type": "code",
   "execution_count": null,
   "metadata": {},
   "outputs": [],
   "source": [
    "myList = [101 ,20 ,10 ,50 ,60]  \n",
    "\n",
    "# print (myList[0])   # prints the first item  \n",
    "# print (myList[-1])  # prints the last item  \n",
    "\n",
    "for item in myList: # the loop prints all the items - this is a 'for each' loop  \n",
    "    print(item, end = ' ')  "
   ]
  },
  {
   "cell_type": "code",
   "execution_count": null,
   "metadata": {},
   "outputs": [],
   "source": [
    "\n",
    "myList = ['Spoon', 'Fork', 'Knife']  \n",
    "\n",
    "for item in myList:  \n",
    "    print (item)  "
   ]
  },
  {
   "cell_type": "markdown",
   "metadata": {},
   "source": [
    "### by value (but keeping a note of position) ###"
   ]
  },
  {
   "cell_type": "code",
   "execution_count": null,
   "metadata": {},
   "outputs": [],
   "source": [
    "index = 0\n",
    "myList =['Spoon', 'Fork', 'Knife']  \n",
    "\n",
    "for item in myList:  \n",
    "    #print (item) \n",
    "    print(index,item)\n",
    "    index = index + 1\n"
   ]
  },
  {
   "cell_type": "markdown",
   "metadata": {},
   "source": [
    "**Exercises**"
   ]
  },
  {
   "cell_type": "code",
   "execution_count": null,
   "metadata": {},
   "outputs": [],
   "source": [
    "words = ['literate','wakeful','abortive','ashamed','tiger','stop','thank',\n",
    "         'office','spy','trick','pail','physical','dislike','few','reading',\n",
    "         'event','scold','numerous','sweltering','cactus','arrange','dance',\n",
    "         'elated','visit','object','black','small','fold','desk','road']"
   ]
  },
  {
   "cell_type": "code",
   "execution_count": null,
   "metadata": {},
   "outputs": [],
   "source": [
    "# 1 \n",
    "# Count how many words are more than 7 characters long\n"
   ]
  },
  {
   "cell_type": "code",
   "execution_count": null,
   "metadata": {},
   "outputs": [],
   "source": [
    "# 2\n",
    "'''\n",
    "Count how many words end with the letter e\n",
    "Add these words to a new list\n",
    "Print the words in the new list, each one on a new line\n",
    "'''\n",
    "\n"
   ]
  },
  {
   "cell_type": "code",
   "execution_count": null,
   "metadata": {},
   "outputs": [],
   "source": []
  }
 ],
 "metadata": {
  "kernelspec": {
   "display_name": "Python 3",
   "language": "python",
   "name": "python3"
  },
  "language_info": {
   "codemirror_mode": {
    "name": "ipython",
    "version": 3
   },
   "file_extension": ".py",
   "mimetype": "text/x-python",
   "name": "python",
   "nbconvert_exporter": "python",
   "pygments_lexer": "ipython3",
   "version": "3.7.9"
  }
 },
 "nbformat": 4,
 "nbformat_minor": 4
}
