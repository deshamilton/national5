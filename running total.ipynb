{
 "metadata": {
  "language_info": {
   "codemirror_mode": {
    "name": "ipython",
    "version": 3
   },
   "file_extension": ".py",
   "mimetype": "text/x-python",
   "name": "python",
   "nbconvert_exporter": "python",
   "pygments_lexer": "ipython3",
   "version": "3.6.4"
  },
  "orig_nbformat": 2,
  "kernelspec": {
   "name": "python3",
   "display_name": "Python 3.6.4 64-bit ('base': conda)",
   "metadata": {
    "interpreter": {
     "hash": "8e121368da8e27e755ca878c1562ba979bf9b5d89e5892cb099094df6444c7df"
    }
   }
  }
 },
 "nbformat": 4,
 "nbformat_minor": 2,
 "cells": [
  {
   "cell_type": "code",
   "execution_count": null,
   "metadata": {},
   "outputs": [],
   "source": [
    "#initialise the testMarks list\n",
    "testMarks = [45, 65, 76, 67, 81, 83, 55, 41]\n",
    "\n",
    "#loop along the list\n",
    "for index in range(8):\n",
    "    #compare the mark and print a message\n",
    "    if testMarks[index] >= 75:\n",
    "        print ('{} is a grade A'.format(testMarks[index]))"
   ]
  },
  {
   "source": [],
   "cell_type": "code",
   "metadata": {},
   "execution_count": null,
   "outputs": []
  }
 ]
}