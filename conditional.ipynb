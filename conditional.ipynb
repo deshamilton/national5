{
 "cells": [
  {
   "cell_type": "markdown",
   "metadata": {},
   "source": [
    "## Conditional Loops ##"
   ]
  },
  {
   "cell_type": "markdown",
   "metadata": {},
   "source": [
    "There are situations where a fixed loop isn't approrpriate, ie you don't know how many times the loop should be repeated.\n",
    "\n",
    "For example, if you wanted to write a program to generate a random number 6, you wouldn't know at the start how many times you would need to run the code `random.randint(1,6)` before it came up with a 6.  \n",
    "\n",
    "In this situation, you need to use a **conditional** loop.  With this type of loop you repeat the lines of code until a certain condition is met - in this example, until you get a number 6.\n",
    "\n",
    "In Python, we use a `while` loop."
   ]
  },
  {
   "cell_type": "markdown",
   "metadata": {},
   "source": [
    "======================"
   ]
  },
  {
   "cell_type": "markdown",
   "metadata": {},
   "source": [
    "Run the code below which demonstrates tossing a die until a 6 comes up.  Run it a few times to see how many goes it takes to get a 6."
   ]
  },
  {
   "cell_type": "code",
   "execution_count": null,
   "metadata": {},
   "outputs": [],
   "source": [
    "# Example 1\n",
    "\n",
    "import random\n",
    "number = 0\n",
    "while number != 6:\n",
    "    number = random.randint(1,6)\n",
    "    print(f'My number is {number}')"
   ]
  },
  {
   "cell_type": "markdown",
   "metadata": {},
   "source": [
    "======================"
   ]
  },
  {
   "cell_type": "markdown",
   "metadata": {},
   "source": [
    "In some programming languages, we could use a `repeat until` structure.\n",
    "For example, \n",
    "\n",
    "```\n",
    "Do\n",
    "  number = Int((6 * Rnd) + 1)\n",
    "Loop Until number = 6\n",
    "\n",
    "```\n"
   ]
  },
  {
   "cell_type": "markdown",
   "metadata": {},
   "source": [
    "You will notice that the `loop until` structure tests at the **end** of the loop whereas the `while` structure tests at the **start** of the loop. "
   ]
  },
  {
   "cell_type": "markdown",
   "metadata": {},
   "source": [
    "======================"
   ]
  },
  {
   "cell_type": "markdown",
   "metadata": {},
   "source": [
    "In the next example, we add together numbers starting from 1 and stop when the total reaches 100"
   ]
  },
  {
   "cell_type": "code",
   "execution_count": null,
   "metadata": {},
   "outputs": [],
   "source": [
    "# Sum numbers from 1 and stop when the total gets to 100\n",
    "\n",
    "# we need to initialse these variables\n",
    "total = 0\n",
    "number = 0\n",
    "\n",
    "# do the following for as long as the total is less than (or equal to) 100\n",
    "while total <= 100:\n",
    "    number += 1\n",
    "    total = total + number\n",
    "\n",
    "# display the total and number of numbers added together\n",
    "print(f'\\nThe total is {total}')\n",
    "print(f'I added together {number} numbers starting from 1')"
   ]
  },
  {
   "cell_type": "markdown",
   "metadata": {},
   "source": [
    "======================"
   ]
  },
  {
   "cell_type": "markdown",
   "metadata": {},
   "source": [
    "Here's another example.  In this program, we take in some marks and work out the average.  The end of the input is indicated by entering -1 for the mark."
   ]
  },
  {
   "cell_type": "code",
   "execution_count": null,
   "metadata": {},
   "outputs": [],
   "source": [
    "# Take in numbers and calculate the average\n",
    "\n",
    "# we need to give initial values to these variables\n",
    "total = 0\n",
    "numberOfMarks = 0\n",
    "mark = int(input('Enter a mark between 1 and 100) '))\n",
    "\n",
    "# now do the following only while the mark isn't -1\n",
    "while mark != -1:\n",
    "    total = total + mark\n",
    "    numberOfMarks += 1\n",
    "    mark = int(input('Enter a mark between 1 and 100) ')) # take in another mark\n",
    "\n",
    "# we want to avoid dividing by 0\n",
    "if numberOfMarks > 0:\n",
    "    average = round(total / numberOfMarks, 1)\n",
    "\n",
    "# display the number of marks and the average mark\n",
    "print(f'\\nThere are {numberOfMarks} marks')\n",
    "print(f'The average mark is {average}')"
   ]
  },
  {
   "cell_type": "markdown",
   "metadata": {},
   "source": [
    "======================"
   ]
  },
  {
   "cell_type": "markdown",
   "metadata": {},
   "source": [
    "**Here's one for you to try**\n",
    "\n",
    "Write a program to enter the names and times in seconds for runners competing in the heats for a 100m race.\n",
    "The program should ask for a name and then ask for their time.\n",
    "\n",
    "For example,\n",
    "`Enter time in seconds for Jones, T`\n",
    "\n",
    "The end of the input should be indicated be entering `xxx` for the runner's name.\n",
    "\n",
    "Print the average time, in seconds to 1 decimal place, of all the runners.\n",
    "\n",
    "Test your program with the times:  11.1, 11.6, 10.9, 10.5\n",
    "\n",
    "(Note:  You can use formatted string literals in input statements as well as print statements.\n",
    "\n",
    "eg `raceTime = input(f'Enter the time for {name}')`"
   ]
  },
  {
   "cell_type": "code",
   "execution_count": null,
   "metadata": {},
   "outputs": [],
   "source": [
    "# Race Heats\n",
    "\n",
    "# we need to give initial values to these variables\n",
    "total = 0\n",
    "athletes = 0\n",
    "name = input('Enter athlete name ')\n",
    "\n",
    "# do the following loop only for names which are not xxx\n",
    "while ______________:\n",
    "    raceTime = float(input(f'Enter the time for {name}'))\n",
    "    ____________\n",
    "    ____________\n",
    "    name = input('Enter athlete name ')\n",
    "    \n",
    "average = _____________\n",
    "\n",
    "# display the average time\n",
    "print(_________________)"
   ]
  },
  {
   "cell_type": "code",
   "execution_count": null,
   "metadata": {},
   "outputs": [],
   "source": []
  }
 ],
 "metadata": {
  "kernelspec": {
   "display_name": "Python 3",
   "language": "python",
   "name": "python3"
  },
  "language_info": {
   "codemirror_mode": {
    "name": "ipython",
    "version": 3
   },
   "file_extension": ".py",
   "mimetype": "text/x-python",
   "name": "python",
   "nbconvert_exporter": "python",
   "pygments_lexer": "ipython3",
   "version": "3.7.9"
  }
 },
 "nbformat": 4,
 "nbformat_minor": 4
}
